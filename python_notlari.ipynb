{
 "cells": [
  {
   "attachments": {},
   "cell_type": "markdown",
   "metadata": {},
   "source": [
    "# Python Notları"
   ]
  },
  {
   "cell_type": "code",
   "execution_count": null,
   "metadata": {},
   "outputs": [],
   "source": [
    "#Variables\n",
    "\n",
    "a = 5  #integer değerler\n",
    "b = 20 \n",
    "\n",
    "mesaj= \"Merhaba\"  #string değer\n",
    "#Stringler immutable veri tipleridir.\n",
    "\n",
    "c = 12.5  #double değer"
   ]
  },
  {
   "cell_type": "code",
   "execution_count": null,
   "metadata": {},
   "outputs": [],
   "source": [
    "type()  #Objelerin tiplerine bakarız.\n",
    "type(2) #int\n",
    "type(True) #bool"
   ]
  },
  {
   "cell_type": "code",
   "execution_count": null,
   "metadata": {},
   "outputs": [],
   "source": [
    "print()  #değerleri ekrana yazdırmak için kullanırız."
   ]
  },
  {
   "attachments": {},
   "cell_type": "markdown",
   "metadata": {},
   "source": [
    "* Escape"
   ]
  },
  {
   "cell_type": "code",
   "execution_count": null,
   "metadata": {},
   "outputs": [],
   "source": [
    "\"Bana \\\"Bugün ne yapiyorsun\\\" dedi.\"\n",
    "#output: 'Bana \"Bugün ne yapıyorusun\" dedi'"
   ]
  },
  {
   "cell_type": "code",
   "execution_count": null,
   "metadata": {},
   "outputs": [],
   "source": [
    "#String Birleştirme\n",
    "\n",
    "\"hey\" + \"nasilsin\"  # 'heynasılsın'\n",
    "\"5\" + \"4\"            # '54'\n",
    "\"hey\"+ \" \" + \"nasilsin\" # hey nasılsın"
   ]
  },
  {
   "cell_type": "code",
   "execution_count": null,
   "metadata": {},
   "outputs": [],
   "source": [
    "len() # stringte kaç eleman var bunu gösterir, karakter uzunluğu\n",
    "len(\"irem!\") # 5 karakter vardır\n",
    "#boşluk da bir karakter sayılır."
   ]
  },
  {
   "cell_type": "code",
   "execution_count": null,
   "metadata": {},
   "outputs": [],
   "source": [
    "##İndexing (Elemanlara erişme)\n",
    "\n",
    "isim= \"İrem\"\n",
    "isim[1] # 1. indexte r harfi var. 'r'\n",
    "isim[0] #'İ' ilk elemandır.\n",
    "isim[-1] #son elemanı gösterir. 'm'\n",
    "\n",
    "#Stringlerin elemanları değiştirilemez."
   ]
  },
  {
   "cell_type": "code",
   "execution_count": null,
   "metadata": {},
   "outputs": [],
   "source": [
    "## Slicing \n",
    "\n",
    "isim[0:2] #0 dan 2 ye kadar olan karakterleri yazdırır. 'İr'\n",
    "\n",
    "#başlangıcı belirtmezsek default olarak 0 alr.\n",
    "isim[:3] # 0dan 3 e kadar 'İre'\n",
    "\n",
    "#Bitişi belirtmezsek stringi sonuna kadar alır ve son elemanı dahil eder.\n",
    "isim[1:] # 1den en sona kadar 'rem'\n",
    "isim[:] # 'İrem'\n",
    "isim[0:] #'İrem'\n",
    "isim[0:10:2] #2şer gider. 'İe'\n",
    "isim[::-1] # 'merİ'"
   ]
  },
  {
   "cell_type": "code",
   "execution_count": null,
   "metadata": {},
   "outputs": [],
   "source": [
    "input() #kullanıcıdan aldığımız değerlerdir. String olarak döndürür.\n",
    "a= int(input(\"bir sayı girin:\"))"
   ]
  },
  {
   "cell_type": "code",
   "execution_count": null,
   "metadata": {},
   "outputs": [],
   "source": [
    "# Tek satırlık yorum yapmak için kullanılır.\n",
    "\n",
    "\"\"\"\n",
    "çok satırlı yorum yapmak için kullanılır.\n",
    "\"\"\""
   ]
  },
  {
   "cell_type": "code",
   "execution_count": null,
   "metadata": {},
   "outputs": [],
   "source": [
    "#LİST\n",
    "#list string,integer,float gibi bir datatype'dır.\n",
    "\n",
    "notlar=[50,60,42,74]\n",
    "notlar[0] #50 (0. ilk indexin elemanı)\n",
    "notlar[-1] #74 (en sondaki indexin elemanı)\n",
    "\n",
    "#listeler farklı veri tiplerini içerebilir.\n",
    "liste=[1,3,\"a\",[4,5],7.4]\n",
    "type(liste) # type listenin içindeki değer değil listenin kendisidir. list gözükür.\n",
    "\n",
    "list= liste[0:3] \n",
    "print(list) #listenin ilk 3 elemanını yazdırır. 0'dan 3'e kadar.\n",
    "\n",
    "dir(liste) #liste ile kullanılabilecek methodlar yazdırılır.\n",
    "\n",
    "help(liste.append) #append methodunun ne işe yaradığını gösterir.\n",
    "\n",
    "liste.append(75) #75'i listenin sonuna ekler.\n",
    "\n",
    "liste.remove(75) #75 listeden çıkartılır.\n",
    "\n",
    "liste.reverse() #listeyi ters çevirir.\n",
    "\n",
    "list2=[3,5,2,6,1,4]\n",
    "list2.sort() #küçükten büyüğe liste sıralanır. liste güncellenir.\n",
    "sorted(list2) #liste aynı kalır ama orjinal listeyi güncellemez. "
   ]
  },
  {
   "cell_type": "code",
   "execution_count": null,
   "metadata": {},
   "outputs": [],
   "source": [
    "##FOR DÖNGÜSÜ\n",
    "for i in range (1,10):\n",
    "    print(i) #1'den 10'a kadar sıralar. 1 2 3 4 5 6 7 8 9 \n",
    "\n",
    "for x in range(5):\n",
    "    print(x) #0'dan 5'e kadar sayıları yazdırır. 0 1 2 3 4 \n",
    "\n",
    "for irem in \"irem erdoğan\":\n",
    "    print(irem) \n",
    "    #i\n",
    "    #r\n",
    "    #e\n",
    "    #m\n",
    "\n",
    "    #e\n",
    "    #r\n",
    "    #d\n",
    "    #o\n",
    "    #ğ\n",
    "    #a\n",
    "    #n\n",
    "\n",
    "liste = [2,4,6,8,10,12]\n",
    "sum(liste) #liste kolayca toplama işlemi yapılarak toplanır.\n",
    "\n",
    "list1= [1,3,5,7,8,9]\n",
    "min(list1) #listedeki en küçük eleman min methoduyla bulunur.\n",
    "#aynı işlem for döngüsüyle de bulunabilir. \n",
    "min =100\n",
    "for i in list1:\n",
    "    if(i<min):\n",
    "        min = i\n",
    "    else:\n",
    "        continue #else durumunda hiçbir şey yapmadan devam edilir.\n",
    "print(min)"
   ]
  },
  {
   "cell_type": "code",
   "execution_count": null,
   "metadata": {},
   "outputs": [],
   "source": [
    "##CONDİTİONALS\n",
    "#İF-ELSE STATEMENT\n",
    "5==5 #True\n",
    "4==8 #False\n",
    "2!=2 #False\n",
    "True == True #True\n",
    "not True #False\n",
    "5>0 and 4<9 #True (tek durumun doğru olması yeterli)\n",
    "\n",
    "a=5\n",
    "b=7\n",
    "if(a > b):\n",
    "    print(\"a büyüktür b den\")\n",
    "elif (a == b):\n",
    "    print(\"a eşittir b\")\n",
    "else:\n",
    "    print(\"a küçüktür b\")    \n",
    "\n",
    "liste = [74,56,25,2154]\n",
    "deger=56\n",
    "if deger in liste:\n",
    "    print(\"value değeri {} listenin içindedir.\".format(deger))\n",
    "else:\n",
    "    print(\"value değeri {} listenin içinde değildir.\".format(deger))\n"
   ]
  },
  {
   "cell_type": "code",
   "execution_count": null,
   "metadata": {},
   "outputs": [],
   "source": [
    "#WHİLE DÖNGÜSÜ\n",
    "#while döngüsünde bir koşul vardır.\n",
    "i= 0\n",
    "while ( i<10):\n",
    "    print(i)\n",
    "    i= i+1 # i 10 olana kadar yazdırır. 0 1 2 3 4 5 6 7 8 9"
   ]
  },
  {
   "cell_type": "code",
   "execution_count": null,
   "metadata": {},
   "outputs": [],
   "source": [
    "#default function: çember çevresi=2*pi*r\n",
    "\n",
    "def cember_cevre(r , pi=3.14): #burada pi sayısının değeri değişmeyeceği için default değer atandı.\n",
    "    output = 2*pi*r\n",
    "    return output\n",
    "cember_cevre(3) \n",
    "\n",
    "# cember_cevre\n",
    "# parametre: r,pi\n",
    "# output: çemberin cevresi\n",
    "\n",
    "#pi sayısı default olarak tanımlandığından fonksiyonda yeni değer yazılmaz.\n",
    "#cember cevresi 18,84 olarak hesaplandı. "
   ]
  },
  {
   "cell_type": "code",
   "execution_count": null,
   "metadata": {},
   "outputs": [],
   "source": [
    "#lambda function\n",
    "#amacı daha hızlı bir şekilde fonksiyon yazabilmektir.\n",
    "\n",
    "def hesapla(a):\n",
    "    output = a*a\n",
    "    return output\n",
    "sonuc=hesapla(5)\n",
    "sonuc2= lambda a: a*a\n",
    "print(sonuc2(5))\n",
    "#iki fonksiyonda da a'in karesi hesaplanır. lambda ile daha kısa bir yazım olur.\n",
    "\n",
    "b=5\n",
    "c= lambda a: a*b\n",
    "c(5) #sonuç 25 olur"
   ]
  },
  {
   "cell_type": "code",
   "execution_count": null,
   "metadata": {},
   "outputs": [],
   "source": [
    "#DİCTİONARY\n",
    "\n",
    "#küçük bir database gibidir.\n",
    "#multiple return yapılmak istendiğinde hepsinin belli isimleri adı altında dictionary kullanmak yararlı olur.\n",
    "\n",
    "dictionary = {\"irem\":24, \"hasan\":24, \"ay\":10}\n",
    "#küçük bir database oluşturuldu.\n",
    "\n",
    "type(dictionary) #dict\n",
    "\n",
    "dictionary[\"irem\"] #İrem'in yaşını verir(24).\n",
    "type(dictionary[\"hasan\"]) #dictionary'deki hasan'ın yaşının type'ı integerdır.\n",
    "\n",
    "dictionary.keys() #dictionary'de tanımlı keyler verilir\n",
    "#dict_keys(['irem', 'hasan', 'ay'])\n",
    "\n",
    "dictionary.values() #dictionary'de tanımlı valuelar verilir.\n",
    "#dict_values([24, 24, 10])\n",
    "\n",
    "def deneme():\n",
    "    \n",
    "    dictionary = {\"irem\":24, \"hasan\":24, \"ay\":3}\n",
    "    \n",
    "    return dictionary\n",
    "\n",
    "dic = deneme() #dic adında bir dictionary fonksiyon içerisinde oluşturuldu.\n",
    "\n",
    "dic[\"irem\"] #irem adlı key'in value'sunu verir(24)."
   ]
  },
  {
   "cell_type": "code",
   "execution_count": null,
   "metadata": {},
   "outputs": [],
   "source": [
    "dictionary = {\"irem\":22, \"hasan\":6, \"ay\":3}\n",
    "\n",
    "keys = dictionary.keys() #dictionary'nin keyleri keys variable'ına eşitlendi.\n",
    "\n",
    "if \"irem\" in keys: #irem keylerin içindeyse evet, değilse hayır yazılır.\n",
    "    \n",
    "    print(\"evet\")\n",
    "\n",
    "else:\n",
    "    print(\"hayir\")"
   ]
  }
 ],
 "metadata": {
  "kernelspec": {
   "display_name": "Python 3",
   "language": "python",
   "name": "python3"
  },
  "language_info": {
   "name": "python",
   "version": "3.11.2 (tags/v3.11.2:878ead1, Feb  7 2023, 16:38:35) [MSC v.1934 64 bit (AMD64)]"
  },
  "orig_nbformat": 4,
  "vscode": {
   "interpreter": {
    "hash": "ebfc0a8d552866b0d59eba665220a57de3bc06f3ac643b8bef38dd8f66781fdd"
   }
  }
 },
 "nbformat": 4,
 "nbformat_minor": 2
}
