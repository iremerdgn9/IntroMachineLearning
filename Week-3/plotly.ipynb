{
 "cells": [
  {
   "attachments": {},
   "cell_type": "markdown",
   "metadata": {},
   "source": [
    "# Plotly"
   ]
  },
  {
   "cell_type": "code",
   "execution_count": 15,
   "metadata": {},
   "outputs": [],
   "source": [
    "import pandas as pd\n",
    "import numpy as np\n",
    "import matplotlib.pyplot as plt\n",
    "from plotly.offline import iplot\n",
    "import plotly.graph_objs as go\n",
    "\n"
   ]
  },
  {
   "attachments": {},
   "cell_type": "markdown",
   "metadata": {},
   "source": [
    "# 3D Scatter Plot"
   ]
  },
  {
   "attachments": {},
   "cell_type": "markdown",
   "metadata": {},
   "source": [
    "* Bazen 2 boyut bir datayı anlamak için yeterli değildir. Bu nedenle bir boyut daha eklemek datanın anlaşılabilirliğini artırır.\n",
    "\n",
    "* x, y, z eksenlerinde 3 boyutlu plot vardır. Size da eklendiğinde 4 boyutlu olur."
   ]
  },
  {
   "attachments": {},
   "cell_type": "markdown",
   "metadata": {},
   "source": [
    "# Box Plot"
   ]
  },
  {
   "attachments": {},
   "cell_type": "markdown",
   "metadata": {},
   "source": [
    "*   box plotta kutunun içindeki çizgi **median** değerini, kutunun kenarlarındaki çizgiler **lower quartile** ve **upper quartile** değerlerini verir. kısa çizgiler ise minimum ve maximum değerleridir.\n",
    "*   **lower quartile** listedeki en küçük sayı ile listenin medianının ortasındaki sayıdır, first quantile (25%) olarak da adlandırılır. \n",
    "*   **Upper quartile** listenin medianı ile listedeki en büyük sayının ortasındaki sayıdır, third quantile (75%) olarak da adlandırılır.\n",
    "*   Lower quartile(Q1) ile upper quartile(Q3) arasındaki mesafe **interquartile** range'dir, yani boxun uzunluğudur.\n",
    "*   Minimum değerin altında ve maximum değerin üstünde kalan değerler **outlier**dır.\n",
    "*   Boxplotta kutu ne kadar uzun olursa veri o kadar dağılmış demektir."
   ]
  }
 ],
 "metadata": {
  "kernelspec": {
   "display_name": "base",
   "language": "python",
   "name": "python3"
  },
  "language_info": {
   "codemirror_mode": {
    "name": "ipython",
    "version": 3
   },
   "file_extension": ".py",
   "mimetype": "text/x-python",
   "name": "python",
   "nbconvert_exporter": "python",
   "pygments_lexer": "ipython3",
   "version": "3.9.13"
  },
  "orig_nbformat": 4
 },
 "nbformat": 4,
 "nbformat_minor": 2
}
