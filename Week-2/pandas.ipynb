{
 "cells": [
  {
   "attachments": {},
   "cell_type": "markdown",
   "metadata": {},
   "source": [
    "# Pandas"
   ]
  },
  {
   "attachments": {},
   "cell_type": "markdown",
   "metadata": {},
   "source": [
    "* Pandas, Python'ın açık kaynaklı verileri analiz etmek için kullanılan kütüphanesidir. Veri kümeleriyle çalışmak için kullanılır. Verileri analiz etmek, temizlemek, keşfetmek ve değiştirmek gibi işlevlere sahiptir."
   ]
  },
  {
   "cell_type": "code",
   "execution_count": 2,
   "metadata": {},
   "outputs": [
    {
     "name": "stdout",
     "output_type": "stream",
     "text": [
      "    name   age   note\n",
      "0   irem  24.0  452.0\n",
      "1  hasan  25.0  326.0\n",
      "2     ay   NaN    NaN\n"
     ]
    }
   ],
   "source": [
    "import pandas as pd \n",
    "\n",
    "dictionary= {\"name\": [\"irem\",\"hasan\",\"ay\"],\n",
    "             \"age\":[24,25,None],\n",
    "             \"note\":[452,326,None]}\n",
    "dataframe=pd.DataFrame(dictionary)\n",
    "print(dataframe)\n",
    "#Pandas'taki veri kümeleri genellikle DataFrames adı verilen çok boyutlu tablolardır."
   ]
  },
  {
   "cell_type": "code",
   "execution_count": 6,
   "metadata": {},
   "outputs": [
    {
     "name": "stdout",
     "output_type": "stream",
     "text": [
      "name     irem\n",
      "age      24.0\n",
      "note    452.0\n",
      "Name: 0, dtype: object\n"
     ]
    }
   ],
   "source": [
    "print(dataframe.loc[0]) #0. satırı döndürür.\n"
   ]
  },
  {
   "cell_type": "code",
   "execution_count": 7,
   "metadata": {},
   "outputs": [
    {
     "name": "stdout",
     "output_type": "stream",
     "text": [
      "   name   age   note\n",
      "0  irem  24.0  452.0\n",
      "2    ay   NaN    NaN\n"
     ]
    }
   ],
   "source": [
    "print(dataframe.loc[[0,2]])"
   ]
  },
  {
   "attachments": {},
   "cell_type": "markdown",
   "metadata": {},
   "source": [
    "\n",
    "* tail, head ile aynı işlevdedir sadece baştan değil sondan 5 satırı verir.\n",
    "\n",
    "* tail ve head ile parantez içine bir sayı yazarsak o kadar sayıyı baştan veya sondan döner. Bir şey yazılmaz ise default sayı 5'dir.\n"
   ]
  },
  {
   "cell_type": "code",
   "execution_count": 3,
   "metadata": {},
   "outputs": [
    {
     "name": "stdout",
     "output_type": "stream",
     "text": [
      "    name   age   note\n",
      "0   irem  24.0  452.0\n",
      "1  hasan  25.0  326.0\n",
      "2     ay   NaN    NaN\n"
     ]
    }
   ],
   "source": [
    "head= dataframe.head()\n",
    "print(head)"
   ]
  },
  {
   "cell_type": "code",
   "execution_count": 4,
   "metadata": {},
   "outputs": [
    {
     "name": "stdout",
     "output_type": "stream",
     "text": [
      "    name   age   note\n",
      "0   irem  24.0  452.0\n",
      "1  hasan  25.0  326.0\n",
      "2     ay   NaN    NaN\n"
     ]
    }
   ],
   "source": [
    "tail= dataframe.tail()\n",
    "print(tail)\n"
   ]
  },
  {
   "cell_type": "code",
   "execution_count": 10,
   "metadata": {},
   "outputs": [
    {
     "name": "stdout",
     "output_type": "stream",
     "text": [
      "     name   age   note\n",
      "1.   irem  24.0  452.0\n",
      "2.  hasan  25.0  326.0\n",
      "3.     ay   NaN    NaN\n"
     ]
    }
   ],
   "source": [
    "dataframe= pd.DataFrame(dictionary, index= [\"1.\", \"2.\", \"3.\"]) #her satıra ad verdik.\n",
    "print(dataframe)"
   ]
  },
  {
   "cell_type": "code",
   "execution_count": 12,
   "metadata": {},
   "outputs": [
    {
     "name": "stdout",
     "output_type": "stream",
     "text": [
      "Index(['name', 'age', 'note'], dtype='object')\n"
     ]
    }
   ],
   "source": [
    "print(dataframe.columns) #sütunların isimlerini yazdırır."
   ]
  },
  {
   "cell_type": "code",
   "execution_count": 13,
   "metadata": {},
   "outputs": [
    {
     "name": "stdout",
     "output_type": "stream",
     "text": [
      "<class 'pandas.core.frame.DataFrame'>\n",
      "Index: 3 entries, 1. to 3.\n",
      "Data columns (total 3 columns):\n",
      " #   Column  Non-Null Count  Dtype  \n",
      "---  ------  --------------  -----  \n",
      " 0   name    3 non-null      object \n",
      " 1   age     2 non-null      float64\n",
      " 2   note    2 non-null      float64\n",
      "dtypes: float64(2), object(1)\n",
      "memory usage: 96.0+ bytes\n",
      "None\n"
     ]
    }
   ],
   "source": [
    "print(dataframe.info()) #dataframe hakkında bilgi verir."
   ]
  },
  {
   "cell_type": "code",
   "execution_count": 25,
   "metadata": {},
   "outputs": [
    {
     "name": "stdout",
     "output_type": "stream",
     "text": [
      "1.     irem\n",
      "2.    hasan\n",
      "3.       ay\n",
      "Name: name, dtype: object\n",
      "1.    24.0\n",
      "2.    25.0\n",
      "3.     NaN\n",
      "Name: age, dtype: float64\n",
      "     name   age   note\n",
      "3.     ay   NaN    NaN\n",
      "2.  hasan  25.0  326.0\n",
      "1.   irem  24.0  452.0\n",
      "1.    452.0\n",
      "2.    326.0\n",
      "3.      NaN\n",
      "Name: note, dtype: float64\n"
     ]
    }
   ],
   "source": [
    "print(dataframe[\"name\"]) #sadece isimleri yazar.\n",
    "print(dataframe.loc[:,\"age\"])\n",
    "print(dataframe.loc[::-1]) #indexleri tersten yazdırır.\n",
    "\n",
    "print(dataframe.loc[:,\"note\"])"
   ]
  },
  {
   "attachments": {},
   "cell_type": "markdown",
   "metadata": {},
   "source": [
    "### Filtering pandas data frame"
   ]
  },
  {
   "cell_type": "code",
   "execution_count": 26,
   "metadata": {},
   "outputs": [
    {
     "name": "stdout",
     "output_type": "stream",
     "text": [
      "     age   bool\n",
      "1.  24.0   True\n",
      "2.  25.0   True\n",
      "3.   NaN  False\n"
     ]
    }
   ],
   "source": [
    "filtre= dataframe.age>5 #yaşı 5ten büyük olanlar filtrelendi\n",
    "dataframe[\"bool\"]= filtre\n",
    "print(dataframe.loc[:,[\"age\",\"bool\"]])"
   ]
  },
  {
   "cell_type": "code",
   "execution_count": 27,
   "metadata": {},
   "outputs": [
    {
     "data": {
      "text/plain": [
       "pandas.core.series.Series"
      ]
     },
     "execution_count": 27,
     "metadata": {},
     "output_type": "execute_result"
    }
   ],
   "source": [
    "type(filtre) #numpy'da vektör denilir pandas'da ise type'ına series denilir. Serilerin birleşimine ise dataframe denir."
   ]
  },
  {
   "cell_type": "code",
   "execution_count": 29,
   "metadata": {},
   "outputs": [
    {
     "name": "stdout",
     "output_type": "stream",
     "text": [
      "     name   age   note  bool\n",
      "1.   irem  24.0  452.0  True\n",
      "2.  hasan  25.0  326.0  True\n"
     ]
    }
   ],
   "source": [
    "filtrelenmiş_data = dataframe[filtre]\n",
    "print(filtrelenmiş_data) #dataframe'i filtrelemiş olduk, sadece koşulu sağlayan indeksler yazıldı"
   ]
  },
  {
   "cell_type": "code",
   "execution_count": 31,
   "metadata": {},
   "outputs": [
    {
     "data": {
      "text/html": [
       "<div>\n",
       "<style scoped>\n",
       "    .dataframe tbody tr th:only-of-type {\n",
       "        vertical-align: middle;\n",
       "    }\n",
       "\n",
       "    .dataframe tbody tr th {\n",
       "        vertical-align: top;\n",
       "    }\n",
       "\n",
       "    .dataframe thead th {\n",
       "        text-align: right;\n",
       "    }\n",
       "</style>\n",
       "<table border=\"1\" class=\"dataframe\">\n",
       "  <thead>\n",
       "    <tr style=\"text-align: right;\">\n",
       "      <th></th>\n",
       "      <th>name</th>\n",
       "      <th>age</th>\n",
       "      <th>note</th>\n",
       "      <th>bool</th>\n",
       "    </tr>\n",
       "  </thead>\n",
       "  <tbody>\n",
       "    <tr>\n",
       "      <th>1.</th>\n",
       "      <td>irem</td>\n",
       "      <td>24.0</td>\n",
       "      <td>452.0</td>\n",
       "      <td>True</td>\n",
       "    </tr>\n",
       "    <tr>\n",
       "      <th>2.</th>\n",
       "      <td>hasan</td>\n",
       "      <td>25.0</td>\n",
       "      <td>326.0</td>\n",
       "      <td>True</td>\n",
       "    </tr>\n",
       "  </tbody>\n",
       "</table>\n",
       "</div>"
      ],
      "text/plain": [
       "     name   age   note  bool\n",
       "1.   irem  24.0  452.0  True\n",
       "2.  hasan  25.0  326.0  True"
      ]
     },
     "execution_count": 31,
     "metadata": {},
     "output_type": "execute_result"
    }
   ],
   "source": [
    "dataframe[dataframe.age>10]"
   ]
  },
  {
   "attachments": {},
   "cell_type": "markdown",
   "metadata": {},
   "source": [
    "List comprehension sayesinde tek bir satırda for ve if kullanıp, extra print yazmadan dataframe1 de yeni bir future açıp doldurduk."
   ]
  },
  {
   "cell_type": "code",
   "execution_count": 32,
   "metadata": {},
   "outputs": [
    {
     "data": {
      "text/plain": [
       "Index(['NAME', 'AGE', 'NOTE', 'BOOL'], dtype='object')"
      ]
     },
     "execution_count": 32,
     "metadata": {},
     "output_type": "execute_result"
    }
   ],
   "source": [
    "dataframe.columns = [i.upper() for i in dataframe.columns]\n",
    "dataframe.columns"
   ]
  },
  {
   "cell_type": "code",
   "execution_count": 40,
   "metadata": {},
   "outputs": [
    {
     "data": {
      "text/html": [
       "<div>\n",
       "<style scoped>\n",
       "    .dataframe tbody tr th:only-of-type {\n",
       "        vertical-align: middle;\n",
       "    }\n",
       "\n",
       "    .dataframe tbody tr th {\n",
       "        vertical-align: top;\n",
       "    }\n",
       "\n",
       "    .dataframe thead th {\n",
       "        text-align: right;\n",
       "    }\n",
       "</style>\n",
       "<table border=\"1\" class=\"dataframe\">\n",
       "  <thead>\n",
       "    <tr style=\"text-align: right;\">\n",
       "      <th></th>\n",
       "      <th>NAME</th>\n",
       "      <th>AGE</th>\n",
       "      <th>NOTE</th>\n",
       "      <th>BOOL</th>\n",
       "    </tr>\n",
       "  </thead>\n",
       "  <tbody>\n",
       "    <tr>\n",
       "      <th>1.</th>\n",
       "      <td>irem</td>\n",
       "      <td>24.0</td>\n",
       "      <td>452.0</td>\n",
       "      <td>True</td>\n",
       "    </tr>\n",
       "    <tr>\n",
       "      <th>2.</th>\n",
       "      <td>hasan</td>\n",
       "      <td>25.0</td>\n",
       "      <td>326.0</td>\n",
       "      <td>True</td>\n",
       "    </tr>\n",
       "    <tr>\n",
       "      <th>3.</th>\n",
       "      <td>ay</td>\n",
       "      <td>NaN</td>\n",
       "      <td>NaN</td>\n",
       "      <td>False</td>\n",
       "    </tr>\n",
       "  </tbody>\n",
       "</table>\n",
       "</div>"
      ],
      "text/plain": [
       "     NAME   AGE   NOTE   BOOL\n",
       "1.   irem  24.0  452.0   True\n",
       "2.  hasan  25.0  326.0   True\n",
       "3.     ay   NaN    NaN  False"
      ]
     },
     "execution_count": 40,
     "metadata": {},
     "output_type": "execute_result"
    }
   ],
   "source": [
    "dataframe.columns = [i.split(\" \")[0]+\"_\"+i.split(\" \")[1] if len(i.split(\" \"))>1 else i for i in dataframe.columns]\n",
    "dataframe #bu işlwm büyük datasetlerdeki düzensizliği ve oluşabilecek sorunları önlemek için kullanılır."
   ]
  },
  {
   "cell_type": "code",
   "execution_count": 42,
   "metadata": {},
   "outputs": [
    {
     "data": {
      "text/html": [
       "<div>\n",
       "<style scoped>\n",
       "    .dataframe tbody tr th:only-of-type {\n",
       "        vertical-align: middle;\n",
       "    }\n",
       "\n",
       "    .dataframe tbody tr th {\n",
       "        vertical-align: top;\n",
       "    }\n",
       "\n",
       "    .dataframe thead th {\n",
       "        text-align: right;\n",
       "    }\n",
       "</style>\n",
       "<table border=\"1\" class=\"dataframe\">\n",
       "  <thead>\n",
       "    <tr style=\"text-align: right;\">\n",
       "      <th></th>\n",
       "      <th>NAME</th>\n",
       "      <th>AGE</th>\n",
       "      <th>NOTE</th>\n",
       "      <th>BOOL</th>\n",
       "    </tr>\n",
       "  </thead>\n",
       "  <tbody>\n",
       "    <tr>\n",
       "      <th>1.</th>\n",
       "      <td>irem</td>\n",
       "      <td>24.0</td>\n",
       "      <td>452.0</td>\n",
       "      <td>True</td>\n",
       "    </tr>\n",
       "    <tr>\n",
       "      <th>2.</th>\n",
       "      <td>hasan</td>\n",
       "      <td>25.0</td>\n",
       "      <td>326.0</td>\n",
       "      <td>True</td>\n",
       "    </tr>\n",
       "    <tr>\n",
       "      <th>3.</th>\n",
       "      <td>ay</td>\n",
       "      <td>NaN</td>\n",
       "      <td>NaN</td>\n",
       "      <td>False</td>\n",
       "    </tr>\n",
       "    <tr>\n",
       "      <th>1.</th>\n",
       "      <td>irem</td>\n",
       "      <td>24.0</td>\n",
       "      <td>452.0</td>\n",
       "      <td>True</td>\n",
       "    </tr>\n",
       "    <tr>\n",
       "      <th>2.</th>\n",
       "      <td>hasan</td>\n",
       "      <td>25.0</td>\n",
       "      <td>326.0</td>\n",
       "      <td>True</td>\n",
       "    </tr>\n",
       "    <tr>\n",
       "      <th>3.</th>\n",
       "      <td>ay</td>\n",
       "      <td>NaN</td>\n",
       "      <td>NaN</td>\n",
       "      <td>False</td>\n",
       "    </tr>\n",
       "  </tbody>\n",
       "</table>\n",
       "</div>"
      ],
      "text/plain": [
       "     NAME   AGE   NOTE   BOOL\n",
       "1.   irem  24.0  452.0   True\n",
       "2.  hasan  25.0  326.0   True\n",
       "3.     ay   NaN    NaN  False\n",
       "1.   irem  24.0  452.0   True\n",
       "2.  hasan  25.0  326.0   True\n",
       "3.     ay   NaN    NaN  False"
      ]
     },
     "execution_count": 42,
     "metadata": {},
     "output_type": "execute_result"
    }
   ],
   "source": [
    "#verticle(dikey) birleştirme  concat() metodu ile iki dataframe'i birleştirir.\n",
    "data1 = dataframe.head()     \n",
    "data2 = dataframe.tail()\n",
    "data_concat = pd.concat([data1,data2],axis=0)\n",
    "data_concat"
   ]
  },
  {
   "attachments": {},
   "cell_type": "markdown",
   "metadata": {},
   "source": [
    "axis belirterek satır mı sütun mu sileceğimizi belirttik. axis= 0 olursa satır, 1 olursa sütunu seçer ve istenileni inplace yardımıyla kalıcı olarak siler."
   ]
  },
  {
   "cell_type": "code",
   "execution_count": 43,
   "metadata": {},
   "outputs": [
    {
     "data": {
      "text/html": [
       "<div>\n",
       "<style scoped>\n",
       "    .dataframe tbody tr th:only-of-type {\n",
       "        vertical-align: middle;\n",
       "    }\n",
       "\n",
       "    .dataframe tbody tr th {\n",
       "        vertical-align: top;\n",
       "    }\n",
       "\n",
       "    .dataframe thead th {\n",
       "        text-align: right;\n",
       "    }\n",
       "</style>\n",
       "<table border=\"1\" class=\"dataframe\">\n",
       "  <thead>\n",
       "    <tr style=\"text-align: right;\">\n",
       "      <th></th>\n",
       "      <th>NAME</th>\n",
       "      <th>AGE</th>\n",
       "      <th>NOTE</th>\n",
       "      <th>BOOL</th>\n",
       "      <th>NAME</th>\n",
       "      <th>AGE</th>\n",
       "      <th>NOTE</th>\n",
       "      <th>BOOL</th>\n",
       "    </tr>\n",
       "  </thead>\n",
       "  <tbody>\n",
       "    <tr>\n",
       "      <th>1.</th>\n",
       "      <td>irem</td>\n",
       "      <td>24.0</td>\n",
       "      <td>452.0</td>\n",
       "      <td>True</td>\n",
       "      <td>irem</td>\n",
       "      <td>24.0</td>\n",
       "      <td>452.0</td>\n",
       "      <td>True</td>\n",
       "    </tr>\n",
       "    <tr>\n",
       "      <th>2.</th>\n",
       "      <td>hasan</td>\n",
       "      <td>25.0</td>\n",
       "      <td>326.0</td>\n",
       "      <td>True</td>\n",
       "      <td>hasan</td>\n",
       "      <td>25.0</td>\n",
       "      <td>326.0</td>\n",
       "      <td>True</td>\n",
       "    </tr>\n",
       "    <tr>\n",
       "      <th>3.</th>\n",
       "      <td>ay</td>\n",
       "      <td>NaN</td>\n",
       "      <td>NaN</td>\n",
       "      <td>False</td>\n",
       "      <td>ay</td>\n",
       "      <td>NaN</td>\n",
       "      <td>NaN</td>\n",
       "      <td>False</td>\n",
       "    </tr>\n",
       "  </tbody>\n",
       "</table>\n",
       "</div>"
      ],
      "text/plain": [
       "     NAME   AGE   NOTE   BOOL   NAME   AGE   NOTE   BOOL\n",
       "1.   irem  24.0  452.0   True   irem  24.0  452.0   True\n",
       "2.  hasan  25.0  326.0   True  hasan  25.0  326.0   True\n",
       "3.     ay   NaN    NaN  False     ay   NaN    NaN  False"
      ]
     },
     "execution_count": 43,
     "metadata": {},
     "output_type": "execute_result"
    }
   ],
   "source": [
    "#horizontal(yatay) birleştirme\n",
    "data_contact = pd.concat([data1,data2],axis=1) #axis= 1 yazarak sütunları birleştirdik\n",
    "data_contact"
   ]
  },
  {
   "cell_type": "code",
   "execution_count": 52,
   "metadata": {},
   "outputs": [
    {
     "data": {
      "text/html": [
       "<div>\n",
       "<style scoped>\n",
       "    .dataframe tbody tr th:only-of-type {\n",
       "        vertical-align: middle;\n",
       "    }\n",
       "\n",
       "    .dataframe tbody tr th {\n",
       "        vertical-align: top;\n",
       "    }\n",
       "\n",
       "    .dataframe thead th {\n",
       "        text-align: right;\n",
       "    }\n",
       "</style>\n",
       "<table border=\"1\" class=\"dataframe\">\n",
       "  <thead>\n",
       "    <tr style=\"text-align: right;\">\n",
       "      <th></th>\n",
       "      <th>NAME</th>\n",
       "      <th>AGE</th>\n",
       "      <th>NOTE</th>\n",
       "      <th>BOOL</th>\n",
       "      <th>buyuk_yas</th>\n",
       "      <th>kucuk_yas</th>\n",
       "      <th>apply_metodu</th>\n",
       "    </tr>\n",
       "  </thead>\n",
       "  <tbody>\n",
       "    <tr>\n",
       "      <th>1.</th>\n",
       "      <td>irem</td>\n",
       "      <td>24.0</td>\n",
       "      <td>452.0</td>\n",
       "      <td>True</td>\n",
       "      <td>48.0</td>\n",
       "      <td>72.0</td>\n",
       "      <td>72.0</td>\n",
       "    </tr>\n",
       "    <tr>\n",
       "      <th>2.</th>\n",
       "      <td>hasan</td>\n",
       "      <td>25.0</td>\n",
       "      <td>326.0</td>\n",
       "      <td>True</td>\n",
       "      <td>50.0</td>\n",
       "      <td>75.0</td>\n",
       "      <td>75.0</td>\n",
       "    </tr>\n",
       "    <tr>\n",
       "      <th>3.</th>\n",
       "      <td>ay</td>\n",
       "      <td>NaN</td>\n",
       "      <td>NaN</td>\n",
       "      <td>False</td>\n",
       "      <td>NaN</td>\n",
       "      <td>NaN</td>\n",
       "      <td>NaN</td>\n",
       "    </tr>\n",
       "  </tbody>\n",
       "</table>\n",
       "</div>"
      ],
      "text/plain": [
       "     NAME   AGE   NOTE   BOOL  buyuk_yas  kucuk_yas  apply_metodu\n",
       "1.   irem  24.0  452.0   True       48.0       72.0          72.0\n",
       "2.  hasan  25.0  326.0   True       50.0       75.0          75.0\n",
       "3.     ay   NaN    NaN  False        NaN        NaN           NaN"
      ]
     },
     "execution_count": 52,
     "metadata": {},
     "output_type": "execute_result"
    }
   ],
   "source": [
    "dataframe[\"kucuk_yas\"] = [i*3 for i in dataframe.AGE]\n",
    "dataframe"
   ]
  },
  {
   "cell_type": "code",
   "execution_count": 50,
   "metadata": {},
   "outputs": [
    {
     "data": {
      "text/html": [
       "<div>\n",
       "<style scoped>\n",
       "    .dataframe tbody tr th:only-of-type {\n",
       "        vertical-align: middle;\n",
       "    }\n",
       "\n",
       "    .dataframe tbody tr th {\n",
       "        vertical-align: top;\n",
       "    }\n",
       "\n",
       "    .dataframe thead th {\n",
       "        text-align: right;\n",
       "    }\n",
       "</style>\n",
       "<table border=\"1\" class=\"dataframe\">\n",
       "  <thead>\n",
       "    <tr style=\"text-align: right;\">\n",
       "      <th></th>\n",
       "      <th>NAME</th>\n",
       "      <th>AGE</th>\n",
       "      <th>NOTE</th>\n",
       "      <th>BOOL</th>\n",
       "      <th>buyuk_yas</th>\n",
       "      <th>kucuk_yas</th>\n",
       "      <th>apply_metodu</th>\n",
       "    </tr>\n",
       "  </thead>\n",
       "  <tbody>\n",
       "    <tr>\n",
       "      <th>1.</th>\n",
       "      <td>irem</td>\n",
       "      <td>24.0</td>\n",
       "      <td>452.0</td>\n",
       "      <td>True</td>\n",
       "      <td>48.0</td>\n",
       "      <td>72.0</td>\n",
       "      <td>72.0</td>\n",
       "    </tr>\n",
       "    <tr>\n",
       "      <th>2.</th>\n",
       "      <td>hasan</td>\n",
       "      <td>25.0</td>\n",
       "      <td>326.0</td>\n",
       "      <td>True</td>\n",
       "      <td>50.0</td>\n",
       "      <td>75.0</td>\n",
       "      <td>75.0</td>\n",
       "    </tr>\n",
       "    <tr>\n",
       "      <th>3.</th>\n",
       "      <td>ay</td>\n",
       "      <td>NaN</td>\n",
       "      <td>NaN</td>\n",
       "      <td>False</td>\n",
       "      <td>NaN</td>\n",
       "      <td>NaN</td>\n",
       "      <td>NaN</td>\n",
       "    </tr>\n",
       "  </tbody>\n",
       "</table>\n",
       "</div>"
      ],
      "text/plain": [
       "     NAME   AGE   NOTE   BOOL  buyuk_yas  kucuk_yas  apply_metodu\n",
       "1.   irem  24.0  452.0   True       48.0       72.0          72.0\n",
       "2.  hasan  25.0  326.0   True       50.0       75.0          75.0\n",
       "3.     ay   NaN    NaN  False        NaN        NaN           NaN"
      ]
     },
     "execution_count": 50,
     "metadata": {},
     "output_type": "execute_result"
    }
   ],
   "source": [
    "def mlt(yas):\n",
    "    return yas*3\n",
    "dataframe[\"apply_metodu\"] = dataframe.AGE.apply(mlt)\n",
    "dataframe"
   ]
  },
  {
   "attachments": {},
   "cell_type": "markdown",
   "metadata": {},
   "source": [
    "apply() fonksiyonu içerisinde lambda kullanarak var olan değişkenin içerisinde değişiklik yapabilir ya da DataFrame objesi içerisinde yer alan değişkenlerden yeni değişkenler türetilebiliriz."
   ]
  }
 ],
 "metadata": {
  "kernelspec": {
   "display_name": "Python 3 (ipykernel)",
   "language": "python",
   "name": "python3"
  },
  "language_info": {
   "codemirror_mode": {
    "name": "ipython",
    "version": 3
   },
   "file_extension": ".py",
   "mimetype": "text/x-python",
   "name": "python",
   "nbconvert_exporter": "python",
   "pygments_lexer": "ipython3",
   "version": "3.9.13"
  },
  "orig_nbformat": 4
 },
 "nbformat": 4,
 "nbformat_minor": 2
}
