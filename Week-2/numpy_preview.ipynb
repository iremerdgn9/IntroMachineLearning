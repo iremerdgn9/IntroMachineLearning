{
 "cells": [
  {
   "attachments": {},
   "cell_type": "markdown",
   "metadata": {},
   "source": [
    "# Numpy Notları"
   ]
  },
  {
   "attachments": {},
   "cell_type": "markdown",
   "metadata": {},
   "source": [
    "* Numpy Python'ın bir kütüphanesidir. İçerisinde farklı metotlar kulllanılır. İstatistiksel işlemler yapmak için kullanılır."
   ]
  },
  {
   "cell_type": "code",
   "execution_count": 1173,
   "metadata": {},
   "outputs": [],
   "source": [
    "import numpy as np \n",
    "#numpy kütüphanesi import edilir ve np takma adı kullanılır."
   ]
  },
  {
   "cell_type": "code",
   "execution_count": 1174,
   "metadata": {},
   "outputs": [
    {
     "name": "stdout",
     "output_type": "stream",
     "text": [
      "[3 5 7]\n"
     ]
    }
   ],
   "source": [
    "arr = np.array([3,5,7]) #array metodu oluşturdum. 1*3lük vektör oluşturuldu.\n",
    "print(arr)"
   ]
  },
  {
   "cell_type": "code",
   "execution_count": 1175,
   "metadata": {},
   "outputs": [
    {
     "name": "stdout",
     "output_type": "stream",
     "text": [
      "(6,)\n"
     ]
    }
   ],
   "source": [
    "arry=np.array([1,2,54,14,36,74])\n",
    "print(arry.shape) #arrayin shape'ine bakılır. 5*1'lik bir matris."
   ]
  },
  {
   "cell_type": "code",
   "execution_count": 1176,
   "metadata": {},
   "outputs": [
    {
     "name": "stdout",
     "output_type": "stream",
     "text": [
      "[[ 1  2 54]\n",
      " [14 36 74]]\n"
     ]
    }
   ],
   "source": [
    "i = arry.reshape(2,3)\n",
    "print(i) #vektör 8 satır ve 9 sütunluk matrise dönüştü."
   ]
  },
  {
   "cell_type": "code",
   "execution_count": 1177,
   "metadata": {},
   "outputs": [
    {
     "name": "stdout",
     "output_type": "stream",
     "text": [
      "shape:  (2, 3)\n",
      "dimension:  2\n",
      "data type:  int32\n",
      "size:  6\n",
      "type:  <class 'numpy.ndarray'>\n"
     ]
    }
   ],
   "source": [
    "print(\"shape: \",i.shape) #(2,3)\n",
    "print(\"dimension: \",i.ndim) #oluşturulan matrisin boyutuna bakılır,boyut kontrolü yapar. dimension:2\n",
    "\n",
    "print(\"data type: \",i.dtype.name) #data type: int32 type'ları görmek için kullanılır.\n",
    "\n",
    "print(\"size: \",i.size) #size: 6 reshape'ten önceki boyutu gösterir.\n",
    "\n",
    "print(\"type: \",type(i)) #type:  <class 'numpy.ndarray'>"
   ]
  },
  {
   "cell_type": "code",
   "execution_count": 1178,
   "metadata": {},
   "outputs": [
    {
     "name": "stdout",
     "output_type": "stream",
     "text": [
      "[['18' '12' '19']\n",
      " ['a' 'b' 'c']\n",
      " ['6' '1' '4']]\n"
     ]
    }
   ],
   "source": [
    "array3= np.array([[18,12,19],[\"a\",\"b\",\"c\"],[6,1,4]]) #reshape yapmadan da boyutu değiştirilebilir. 3 boyutlu dizi oluşturdum.\n",
    "print(array3)"
   ]
  },
  {
   "cell_type": "code",
   "execution_count": 1179,
   "metadata": {},
   "outputs": [
    {
     "name": "stdout",
     "output_type": "stream",
     "text": [
      "(3, 3)\n"
     ]
    }
   ],
   "source": [
    "print(array3.shape) #(3,3) boyutlara sahiptir."
   ]
  },
  {
   "cell_type": "code",
   "execution_count": 1180,
   "metadata": {},
   "outputs": [
    {
     "name": "stdout",
     "output_type": "stream",
     "text": [
      "['18' '12' '19']\n",
      "12\n"
     ]
    }
   ],
   "source": [
    "print(array3[0]) #dizinin 1. elemanlarını yazdırır.\n",
    "print(array3[0,1]) #dizinin 1.satırı ve 2. sütununa erişir."
   ]
  },
  {
   "cell_type": "code",
   "execution_count": 1181,
   "metadata": {},
   "outputs": [
    {
     "name": "stdout",
     "output_type": "stream",
     "text": [
      "[[8. 0. 0.]\n",
      " [0. 0. 0.]\n",
      " [0. 0. 0.]]\n"
     ]
    }
   ],
   "source": [
    "zeros= np.zeros((3,3)) #3*3lük sıfırlardan oluşan matris oluşturulur.\n",
    "\n",
    "zeros[0,0]=8\n",
    "print(zeros)"
   ]
  },
  {
   "cell_type": "code",
   "execution_count": 1182,
   "metadata": {},
   "outputs": [
    {
     "data": {
      "text/plain": [
       "array([[1., 1., 1., 1., 1., 1.],\n",
       "       [1., 1., 1., 1., 1., 1.],\n",
       "       [1., 1., 1., 1., 1., 1.],\n",
       "       [1., 1., 1., 1., 1., 1.],\n",
       "       [1., 1., 1., 1., 1., 1.]])"
      ]
     },
     "execution_count": 1182,
     "metadata": {},
     "output_type": "execute_result"
    }
   ],
   "source": [
    "np.ones((5,6)) #5*6lık 1'lerden oluşan matris oluşur."
   ]
  },
  {
   "cell_type": "code",
   "execution_count": 1183,
   "metadata": {},
   "outputs": [
    {
     "data": {
      "text/plain": [
       "array([[1.89146896e-307, 1.37961302e-306, 6.23053614e-307,\n",
       "        6.23053954e-307, 9.34609790e-307],\n",
       "       [8.45593934e-307, 9.34600963e-307, 9.34598925e-307,\n",
       "        1.42418715e-306, 1.95819401e-306],\n",
       "       [1.37961370e-306, 6.23054633e-307, 9.34598926e-307,\n",
       "        6.89804132e-307, 9.34598926e-307],\n",
       "       [8.01091099e-307, 1.24610927e-306, 2.22522597e-306,\n",
       "        8.90109671e-307, 1.37962388e-306],\n",
       "       [9.34598925e-307, 6.89807867e-307, 1.11261570e-306,\n",
       "        8.34451504e-308, 1.19333452e-152]])"
      ]
     },
     "execution_count": 1183,
     "metadata": {},
     "output_type": "execute_result"
    }
   ],
   "source": [
    "np.empty((5,5)) #boş ve random değerlere sahip array oluşur."
   ]
  },
  {
   "cell_type": "code",
   "execution_count": 1184,
   "metadata": {},
   "outputs": [
    {
     "name": "stdout",
     "output_type": "stream",
     "text": [
      "[5 4 8 9 6]\n",
      "[5 4 8 9 6]\n",
      "[3]\n",
      "[]\n",
      "[5 9]\n"
     ]
    }
   ],
   "source": [
    "dizi= np.array([5,4,8,9,6,3])\n",
    "print(dizi[0:5]) #0'dan 5'e kadar sayıları yazdırır.\n",
    "print(dizi[:5])\n",
    "print(dizi[5:]) #5. indisin en sonuna kadar yazdırır.\n",
    "print(dizi[-1:-5])\n",
    "print(dizi[::3])"
   ]
  },
  {
   "cell_type": "code",
   "execution_count": 1185,
   "metadata": {},
   "outputs": [
    {
     "name": "stdout",
     "output_type": "stream",
     "text": [
      "[2 5 7]\n",
      "int32\n"
     ]
    }
   ],
   "source": [
    "dizi1= np.array([2.5,5.7,7.6])\n",
    "irem=dizi1.astype('i')\n",
    "print(irem) #tam kısmı alır sadece\n",
    "print(irem.dtype) #typeını gösterir."
   ]
  },
  {
   "cell_type": "code",
   "execution_count": 1186,
   "metadata": {},
   "outputs": [
    {
     "name": "stdout",
     "output_type": "stream",
     "text": [
      "[ 5  4  6  8  4 53]\n",
      "[5 4 6 8 4 2]\n"
     ]
    }
   ],
   "source": [
    "dizi1= np.array([5,4,6,8,4,2])\n",
    "a= dizi1.copy()\n",
    "dizi1[5]=53 #5. index yerine 53 değeri getirildi. orjinal dizi değiştirilmiş oldu.\n",
    "print(dizi1)\n",
    "print(a)"
   ]
  },
  {
   "cell_type": "code",
   "execution_count": 1187,
   "metadata": {},
   "outputs": [
    {
     "name": "stdout",
     "output_type": "stream",
     "text": [
      "[ 5  4  6  8 50 53]\n",
      "[ 5  4  6  8 50 53]\n",
      "[ 5  4  6  8 50 53]\n"
     ]
    }
   ],
   "source": [
    "b= dizi1.view() #orjinal dizi de değişmiş oldu. \n",
    "dizi1[4]=50\n",
    "print(dizi1)\n",
    "print(b)\n",
    "print(b.base)"
   ]
  },
  {
   "cell_type": "code",
   "execution_count": 1188,
   "metadata": {},
   "outputs": [
    {
     "name": "stdout",
     "output_type": "stream",
     "text": [
      "4\n",
      "5\n",
      "9\n",
      "8\n"
     ]
    }
   ],
   "source": [
    "irem= np.array([4,5,9,8])\n",
    "for i in irem:\n",
    "    print(i) #dizinin ögelerini yazdırır."
   ]
  },
  {
   "cell_type": "code",
   "execution_count": 1189,
   "metadata": {},
   "outputs": [
    {
     "name": "stdout",
     "output_type": "stream",
     "text": [
      "[2 5 6]\n",
      "[7 8 4]\n",
      "2\n",
      "5\n",
      "6\n",
      "7\n",
      "8\n",
      "4\n"
     ]
    }
   ],
   "source": [
    "iremm=np.array([[2,5,6],[7,8,4]])\n",
    "for i in iremm:\n",
    "    print(i) #2 boyutlu dizinin ögelerini yazdırır.\n",
    "\n",
    "for i in iremm:\n",
    "    for r in i:\n",
    "        print(r) #dizinin tüm ögelerini alt alta sıralar."
   ]
  },
  {
   "cell_type": "code",
   "execution_count": 1190,
   "metadata": {},
   "outputs": [
    {
     "name": "stdout",
     "output_type": "stream",
     "text": [
      "2\n",
      "5\n",
      "6\n",
      "7\n",
      "8\n",
      "4\n"
     ]
    }
   ],
   "source": [
    "for a in np.nditer(iremm):\n",
    "    print(a) #herbirini alt alta sıralar"
   ]
  },
  {
   "cell_type": "code",
   "execution_count": 1191,
   "metadata": {},
   "outputs": [
    {
     "name": "stdout",
     "output_type": "stream",
     "text": [
      "[1 4 5 5 8 7]\n",
      "[[1 5]\n",
      " [4 8]\n",
      " [5 7]]\n",
      "[[1 4 5]\n",
      " [5 8 7]]\n"
     ]
    }
   ],
   "source": [
    "ir1= np.array([1,4,5])\n",
    "ir2= np.array([5,8,7])\n",
    "arry = np.concatenate((ir1,ir2))\n",
    "print(arry) #iki diziyi birleştirir. \n",
    "\n",
    "arry = np.stack((ir1,ir2), axis=1)\n",
    "print(arry)\n",
    "\n",
    "arry = np.vstack((ir1, ir2)) #sütunlar boyunca istifler\n",
    "print(arry)"
   ]
  },
  {
   "cell_type": "code",
   "execution_count": 1192,
   "metadata": {},
   "outputs": [
    {
     "name": "stdout",
     "output_type": "stream",
     "text": [
      "[array([1, 2, 3]), array([4, 5, 6])]\n"
     ]
    }
   ],
   "source": [
    "arr = np.array([1, 2, 3, 4, 5, 6])\n",
    "irm = np.array_split(arr, 2) #diziyi 2 parçaya böler.\n",
    "print(irm)"
   ]
  },
  {
   "cell_type": "code",
   "execution_count": 1193,
   "metadata": {},
   "outputs": [
    {
     "name": "stdout",
     "output_type": "stream",
     "text": [
      "(array([4], dtype=int64),)\n",
      "(array([1, 3, 5], dtype=int64),)\n",
      "5\n"
     ]
    }
   ],
   "source": [
    "a= np.where(arr == 5)\n",
    "print(a) #değerin 5 olduğu indexi buldu. \n",
    "\n",
    "a= np.where(arr%2==0)\n",
    "print(a) #değerlerin çift olduğu indexleri bulur.\n",
    "\n",
    "a = np.searchsorted(arr, 5, side='right')\n",
    "print(a)"
   ]
  },
  {
   "cell_type": "code",
   "execution_count": 1194,
   "metadata": {},
   "outputs": [
    {
     "name": "stdout",
     "output_type": "stream",
     "text": [
      "[1 2 3 4 5 6]\n"
     ]
    }
   ],
   "source": [
    "print(np.sort(arr)) #diziyi sıralar"
   ]
  },
  {
   "cell_type": "code",
   "execution_count": 1195,
   "metadata": {},
   "outputs": [
    {
     "name": "stdout",
     "output_type": "stream",
     "text": [
      "[ 5 10 10]\n",
      "[ 3  0 -6]\n",
      "[   4 3125  256]\n"
     ]
    }
   ],
   "source": [
    "x= np.array([4,5,2])\n",
    "y=np.array([1,5,8])\n",
    "print(x+y) #basit matematiksel işlemlerde boyutların aynı olması gerekir.\n",
    "print(x-y)\n",
    "print(x**y)"
   ]
  },
  {
   "cell_type": "code",
   "execution_count": 1196,
   "metadata": {},
   "outputs": [
    {
     "name": "stdout",
     "output_type": "stream",
     "text": [
      "[[1 4 7]\n",
      " [2 8 8]\n",
      " [3 5 9]]\n"
     ]
    }
   ],
   "source": [
    "aa= np.array([[1,2,3],[4,8,5],[7,8,9]])\n",
    "array_transpose = aa.T #arrayın transpose'u alınır.\n",
    "\n",
    "print(array_transpose)"
   ]
  }
 ],
 "metadata": {
  "kernelspec": {
   "display_name": "Python 3 (ipykernel)",
   "language": "python",
   "name": "python3"
  },
  "language_info": {
   "codemirror_mode": {
    "name": "ipython",
    "version": 3
   },
   "file_extension": ".py",
   "mimetype": "text/x-python",
   "name": "python",
   "nbconvert_exporter": "python",
   "pygments_lexer": "ipython3",
   "version": "3.9.13"
  },
  "orig_nbformat": 4
 },
 "nbformat": 4,
 "nbformat_minor": 2
}
