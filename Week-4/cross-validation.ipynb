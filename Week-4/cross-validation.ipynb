{
 "cells": [
  {
   "attachments": {},
   "cell_type": "markdown",
   "metadata": {},
   "source": [
    "# cross validation"
   ]
  },
  {
   "cell_type": "code",
   "execution_count": 1,
   "metadata": {},
   "outputs": [],
   "source": [
    "from sklearn.datasets import load_iris\n",
    "from sklearn.linear_model import LinearRegression\n",
    "from sklearn.model_selection import KFold\n",
    "from sklearn.metrics import mean_squared_error\n",
    "import numpy as np"
   ]
  },
  {
   "cell_type": "code",
   "execution_count": 3,
   "metadata": {},
   "outputs": [],
   "source": [
    "iris = load_iris()\n",
    "x, y= iris.data , iris.target"
   ]
  },
  {
   "cell_type": "code",
   "execution_count": 4,
   "metadata": {},
   "outputs": [],
   "source": [
    "kf= KFold(n_splits=5,shuffle=True,random_state=42) \n",
    "#shuffle true ise veri kümesi herbir katman için rastgele bir şekilde karıştırılacak demektir.\n",
    "#random state farklı çalışmalarda aynı sonuç elde etmek için kullanılır."
   ]
  },
  {
   "cell_type": "code",
   "execution_count": 5,
   "metadata": {},
   "outputs": [],
   "source": [
    "model = LinearRegression()"
   ]
  },
  {
   "cell_type": "code",
   "execution_count": 6,
   "metadata": {},
   "outputs": [],
   "source": [
    "scores= []\n",
    "for train_index, test_index in kf.split(x):\n",
    "    x_train, x_test= x[train_index], x[test_index]\n",
    "    y_train, y_test= y[train_index], y[test_index]\n",
    "\n",
    "    model.fit(x_train,y_train)\n",
    "    y_pred= model.predict(x_test)\n",
    "\n",
    "    score= mean_squared_error(y_test,y_pred)\n",
    "\n",
    "    scores.append(score)"
   ]
  },
  {
   "cell_type": "code",
   "execution_count": 7,
   "metadata": {},
   "outputs": [
    {
     "name": "stdout",
     "output_type": "stream",
     "text": [
      "k fold cross validation [0.03711379440797691, 0.04287733169764371, 0.05339513046889763, 0.06316425044891769, 0.04779460065443834]\n",
      "ortalama hata skoru 0.048869021535574854\n"
     ]
    }
   ],
   "source": [
    "mean_score= np.mean(scores)\n",
    "print(\"k fold cross validation\",scores)\n",
    "print(\"ortalama hata skoru\",mean_score)"
   ]
  }
 ],
 "metadata": {
  "kernelspec": {
   "display_name": "base",
   "language": "python",
   "name": "python3"
  },
  "language_info": {
   "codemirror_mode": {
    "name": "ipython",
    "version": 3
   },
   "file_extension": ".py",
   "mimetype": "text/x-python",
   "name": "python",
   "nbconvert_exporter": "python",
   "pygments_lexer": "ipython3",
   "version": "3.9.13"
  },
  "orig_nbformat": 4
 },
 "nbformat": 4,
 "nbformat_minor": 2
}
